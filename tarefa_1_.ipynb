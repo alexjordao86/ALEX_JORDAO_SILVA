# Calcular estatísticas descritivas da lista 'valores'

valores = [4, 6, 3, 4, 5, 8, 4, 2]

# Valor máximo
valor_maximo = max(valores)
print(f"Valor máximo: {valor_maximo}")

# Valor mínimo
valor_minimo = min(valores)
print(f"Valor mínimo: {valor_minimo}")

# Média aritmética
media = sum(valores) / len(valores)
print(f"Média aritmética: {media}")

# Mediana
valores_ordenados = sorted(valores)
n = len(valores_ordenados)
if n % 2 == 0:
  mediana = (valores_ordenados[n//2 - 1] + valores_ordenados[n//2]) / 2
else:
  mediana = valores_ordenados[n//2]
print(f"Mediana: {mediana}")

# Desvio padrão
import statistics
desvio_padrao = statistics.stdev(valores)
print(f"Desvio padrão: {desvio_padrao}")
