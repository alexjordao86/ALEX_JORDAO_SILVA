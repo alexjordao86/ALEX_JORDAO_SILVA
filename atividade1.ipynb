{
  "nbformat": 4,
  "nbformat_minor": 0,
  "metadata": {
    "colab": {
      "provenance": [],
      "authorship_tag": "ABX9TyPLjZRKjjlzQ2gH0bIvBCGp",
      "include_colab_link": true
    },
    "kernelspec": {
      "name": "python3",
      "display_name": "Python 3"
    },
    "language_info": {
      "name": "python"
    }
  },
  "cells": [
    {
      "cell_type": "markdown",
      "metadata": {
        "id": "view-in-github",
        "colab_type": "text"
      },
      "source": [
        "<a href=\"https://colab.research.google.com/github/alexjordao86/ALEX_JORDAO_SILVA/blob/main/atividade1.ipynb\" target=\"_parent\"><img src=\"https://colab.research.google.com/assets/colab-badge.svg\" alt=\"Open In Colab\"/></a>"
      ]
    },
    {
      "cell_type": "code",
      "execution_count": 5,
      "metadata": {
        "colab": {
          "base_uri": "https://localhost:8080/"
        },
        "id": "wIjV0lA9tB9k",
        "outputId": "9ee1f00d-bda0-46e5-8084-5b4cd3dcd47f"
      },
      "outputs": [
        {
          "output_type": "execute_result",
          "data": {
            "text/plain": [
              "{'cells': [{'cell_type': 'code',\n",
              "   'execution_count': None,\n",
              "   'id': 'import-numpy',\n",
              "   'metadata': {},\n",
              "   'outputs': [],\n",
              "   'source': ['import numpy as np # type: ignore\\n',\n",
              "    '\\n',\n",
              "    'valores = [4, 6, 3, 4, 5, 8, 4, 2]\\n',\n",
              "    '\\n',\n",
              "    'valor_maximo = np.max(valores)\\n',\n",
              "    'valor_minimo = np.min(valores)\\n',\n",
              "    'media = np.mean(valores)\\n',\n",
              "    'mediana = np.median(valores)\\n',\n",
              "    'desvio_padrao = np.std(valores)\\n',\n",
              "    '\\n',\n",
              "    \"print(f'Valor máximo: {valor_maximo}')\\n\",\n",
              "    \"print(f'Valor mínimo: {valor_minimo}')\\n\",\n",
              "    \"print(f'Média aritmética: {media}')\\n\",\n",
              "    \"print(f'Mediana: {mediana}')\\n\",\n",
              "    \"print(f'Desvio padrão: {desvio_padrao}')\"]}],\n",
              " 'metadata': {'kernelspec': {'display_name': 'Python 3',\n",
              "   'language': 'python',\n",
              "   'name': 'python3'},\n",
              "  'language_info': {'codemirror_mode': {'name': 'ipython', 'version': 3},\n",
              "   'file_extension': '.py',\n",
              "   'mimetype': 'text/x-python',\n",
              "   'name': 'python',\n",
              "   'nbconvert_exporter': 'python',\n",
              "   'version': '3.9.7'}},\n",
              " 'nbformat': 4,\n",
              " 'nbformat_minor': 5}"
            ]
          },
          "metadata": {},
          "execution_count": 5
        }
      ],
      "source": [
        "{\n",
        " \"cells\": [\n",
        "  {\n",
        "   \"cell_type\": \"code\",\n",
        "   \"execution_count\": None,\n",
        "   \"id\": \"import-numpy\",\n",
        "   \"metadata\": {},\n",
        "   \"outputs\": [],\n",
        "   \"source\": [\n",
        "    \"import numpy as np # type: ignore\\n\",\n",
        "    \"\\n\",\n",
        "    \"valores = [4, 6, 3, 4, 5, 8, 4, 2]\\n\",\n",
        "    \"\\n\",\n",
        "    \"valor_maximo = np.max(valores)\\n\",\n",
        "    \"valor_minimo = np.min(valores)\\n\",\n",
        "    \"media = np.mean(valores)\\n\",\n",
        "    \"mediana = np.median(valores)\\n\",\n",
        "    \"desvio_padrao = np.std(valores)\\n\",\n",
        "    \"\\n\",\n",
        "    \"print(f'Valor máximo: {valor_maximo}')\\n\",\n",
        "    \"print(f'Valor mínimo: {valor_minimo}')\\n\",\n",
        "    \"print(f'Média aritmética: {media}')\\n\",\n",
        "    \"print(f'Mediana: {mediana}')\\n\",\n",
        "    \"print(f'Desvio padrão: {desvio_padrao}')\"\n",
        "   ]\n",
        "  }\n",
        " ],\n",
        " \"metadata\": {\n",
        "  \"kernelspec\": {\n",
        "   \"display_name\": \"Python 3\",\n",
        "   \"language\": \"python\",\n",
        "   \"name\": \"python3\"\n",
        "  },\n",
        "  \"language_info\": {\n",
        "   \"codemirror_mode\": {\n",
        "    \"name\": \"ipython\",\n",
        "    \"version\": 3\n",
        "   },\n",
        "   \"file_extension\": \".py\",\n",
        "   \"mimetype\": \"text/x-python\",\n",
        "   \"name\": \"python\",\n",
        "   \"nbconvert_exporter\": \"python\",\n",
        "   \"version\": \"3.9.7\"\n",
        "  }\n",
        " },\n",
        " \"nbformat\": 4,\n",
        " \"nbformat_minor\": 5\n",
        "}"
      ]
    }
  ]
}