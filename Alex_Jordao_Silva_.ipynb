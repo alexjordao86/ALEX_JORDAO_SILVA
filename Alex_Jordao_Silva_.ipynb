{
  "nbformat": 4,
  "nbformat_minor": 0,
  "metadata": {
    "colab": {
      "provenance": [],
      "authorship_tag": "ABX9TyO0O+aoxVp8d8uaGspyrq86",
      "include_colab_link": true
    },
    "kernelspec": {
      "name": "python3",
      "display_name": "Python 3"
    },
    "language_info": {
      "name": "python"
    }
  },
  "cells": [
    {
      "cell_type": "markdown",
      "metadata": {
        "id": "view-in-github",
        "colab_type": "text"
      },
      "source": [
        "<a href=\"https://colab.research.google.com/github/alexjordao86/ALEX_JORDAO_SILVA/blob/main/Alex_Jordao_Silva_.ipynb\" target=\"_parent\"><img src=\"https://colab.research.google.com/assets/colab-badge.svg\" alt=\"Open In Colab\"/></a>"
      ]
    },
    {
      "cell_type": "code",
      "execution_count": null,
      "metadata": {
        "colab": {
          "base_uri": "https://localhost:8080/"
        },
        "id": "XkUyIODEKN4I",
        "outputId": "c6091aaf-3641-431d-c5ca-96e9a4839207"
      },
      "outputs": [
        {
          "output_type": "stream",
          "name": "stdout",
          "text": [
            "Pasta 'Alex_Jordao_Silva' criada com sucesso em '/content/NOTEBOOKS/Alex_Jordao_Silva' e arquivo README.md gerado.\n"
          ]
        }
      ],
      "source": [
        "# prompt: Criar sua pasta em NOTEBOOKS com meu nome: Alex_Jordao_Silva\n",
        "# Dentro da sua pasta, crie um arquivo README.md contendo as seguintes informações:\n",
        "# Nome Completo: <Alex Jordão Silva>\n",
        "# Área de Interesse: <Gestão de Dados>\n",
        "# Informações Relevantes: <Tenho 37 anos, e há dois anos fui diagnosticado com TDAH, o que estou tratando atualmente. Sou graduado em Gestão de Recursos Humanos e tenho 20 anos de experiência na área administrativa e financeira. Recentemente, decidi fazer uma transição de carreira para a área de TI, com um grande interesse em focar no campo de dados.>\n",
        "\n",
        "import os\n",
        "\n",
        "# Nome da pasta\n",
        "pasta_nome = \"Alex_Jordao_Silva\"\n",
        "\n",
        "# Caminho completo para a pasta\n",
        "pasta_caminho = \"/content/NOTEBOOKS/\" + pasta_nome\n",
        "\n",
        "# Cria a pasta se ela não existir\n",
        "if not os.path.exists(pasta_caminho):\n",
        "  os.makedirs(pasta_caminho)\n",
        "\n",
        "# Caminho completo para o arquivo README.md\n",
        "readme_caminho = pasta_caminho + \"/README.md\"\n",
        "\n",
        "# Conteúdo do README.md\n",
        "readme_conteudo = \"\"\"\n",
        "Nome Completo: Alex Jordão Silva\n",
        "Área de Interesse: Gestão de Dados\n",
        "Informações Relevantes: Tenho 37 anos, e há dois anos fui diagnosticado com TDAH, o que estou tratando atualmente. Sou graduado em Gestão de Recursos Humanos e tenho 20 anos de experiência na área administrativa e financeira. Recentemente, decidi fazer uma transição de carreira para a área de TI, com um grande interesse em focar no campo de dados.\n",
        "\"\"\"\n",
        "\n",
        "# Cria o arquivo README.md e escreve o conteúdo\n",
        "with open(readme_caminho, \"w\") as f:\n",
        "  f.write(readme_conteudo)\n",
        "\n",
        "print(f\"Pasta '{pasta_nome}' criada com sucesso em '{pasta_caminho}' e arquivo README.md gerado.\")"
      ]
    }
  ]
}